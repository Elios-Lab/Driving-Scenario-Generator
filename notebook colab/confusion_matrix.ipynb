{
  "nbformat": 4,
  "nbformat_minor": 0,
  "metadata": {
    "accelerator": "GPU",
    "colab": {
      "name": "confusion_matrix.ipynb",
      "provenance": [],
      "collapsed_sections": [],
      "toc_visible": true
    },
    "kernelspec": {
      "display_name": "Python 3",
      "name": "python3"
    }
  },
  "cells": [
    {
      "cell_type": "markdown",
      "metadata": {
        "id": "Gm7Pg7yDqUu4"
      },
      "source": [
        "The VideoFrameGenerator I created can be installed via pip command:"
      ]
    },
    {
      "cell_type": "markdown",
      "metadata": {
        "id": "CG09dmiovLeO"
      },
      "source": [
        "#   Testing"
      ]
    },
    {
      "cell_type": "code",
      "metadata": {
        "id": "xb2qSDM2Vwy1"
      },
      "source": [
        "#download results and model weights\n",
        "!curl -L \"Link zip file here\" > GRU.zip; unzip  GRU.zip; rm GRU.zip  \n"
      ],
      "execution_count": null,
      "outputs": []
    },
    {
      "cell_type": "code",
      "metadata": {
        "id": "zvia4bx2pktj"
      },
      "source": [
        "# Download dataset\n",
        "#dataset day\n",
        "%cd /content/Testset\n",
        "!curl -L \"Link rar file here\" > Dataset.rar; unrar x Dataset.rar; rm Dataset.rar \n",
        "\n"
      ],
      "execution_count": null,
      "outputs": []
    },
    {
      "cell_type": "code",
      "metadata": {
        "id": "4SJlMcoWpPpB"
      },
      "source": [
        "!pip install keras-video-generators"
      ],
      "execution_count": null,
      "outputs": []
    },
    {
      "cell_type": "code",
      "metadata": {
        "id": "3ZZnAtjGpQYV"
      },
      "source": [
        "#modifica cd con percorso logs corretto\n",
        "%cd /content/GRU/100_/day_cut_10frame_full_94_/\n",
        "%load_ext tensorboard\n",
        "%tensorboard --logdir logs\n",
        "%reload_ext tensorboard"
      ],
      "execution_count": null,
      "outputs": []
    },
    {
      "cell_type": "code",
      "metadata": {
        "id": "EZ5j7Dme52t8"
      },
      "source": [
        "%cd /content/\n",
        "import os\n",
        "import glob\n",
        "import keras\n",
        "from keras_video import VideoFrameGenerator\n",
        "import numpy as np\n",
        "# use sub directories names as classes\n",
        "classes = [i.split(os.path.sep)[1] for i in glob.glob('Testset/*')]\n",
        "classes.sort()\n",
        "# some global params\n",
        "SIZE = (112, 112)\n",
        "CHANNELS = 3\n",
        "NBFRAME = 10\n",
        "BS = 8\n",
        "# pattern to get videos and classes\n",
        "glob_pattern='Testset/{classname}/*.mp4'\n",
        "# for data augmentation\n",
        "data_aug = keras.preprocessing.image.ImageDataGenerator(\n",
        "    zoom_range=.1,\n",
        "    horizontal_flip=True,\n",
        "    rotation_range=8,\n",
        "    width_shift_range=.2,\n",
        "    height_shift_range=.2)\n",
        "# Create video frame generator\n",
        "train2 = VideoFrameGenerator(\n",
        "    classes=classes, \n",
        "    glob_pattern=glob_pattern,\n",
        "    nb_frames=NBFRAME,\n",
        "    split_val=.2,\n",
        "    shuffle=False,\n",
        "    batch_size=BS,\n",
        "    target_shape=SIZE,\n",
        "    nb_channel=CHANNELS,\n",
        "    transformation=data_aug,\n",
        "    use_frame_cache=False)\n",
        "\n",
        "import keras_video.utils\n",
        "valid2 = train2.get_validation_generator()"
      ],
      "execution_count": null,
      "outputs": []
    },
    {
      "cell_type": "code",
      "metadata": {
        "id": "1PAPaKkPdk6b"
      },
      "source": [
        "import keras_video.utils\n",
        "keras_video.utils.show_sample(valid2)"
      ],
      "execution_count": null,
      "outputs": []
    },
    {
      "cell_type": "markdown",
      "metadata": {
        "id": "77hNN27RoHC7"
      },
      "source": [
        "Accuracy e visual output"
      ]
    },
    {
      "cell_type": "code",
      "metadata": {
        "id": "da9VL9pe8Ian"
      },
      "source": [
        "#modifica cd con percosro al peso corretto (e anche in model )\n",
        "\n",
        "import keras\n",
        "from keras.models import load_model\n",
        "%cd /content/GRU/100_/day_cut_10frame_full_94_/chkp/\n",
        "model = load_model('weights.100-0.21.hdf5')\n"
      ],
      "execution_count": null,
      "outputs": []
    },
    {
      "cell_type": "code",
      "metadata": {
        "id": "9T59J8dwiNNS"
      },
      "source": [
        "import numpy as np\n",
        "\n",
        "\n",
        "#tester = test\n",
        "#tester = train\n",
        "tester = valid2\n",
        "\n",
        "#compute and print average accuracy\n",
        "accuracy = model.evaluate(tester)\n",
        "\n",
        "true_labels = []\n",
        "for i in range(len(tester)):\n",
        "  batch = np.argmax(tester[i][1], axis=1)\n",
        "  for c in batch:\n",
        "    true_labels.append(c)\n",
        "\n",
        "print(true_labels)\n",
        "\n",
        "#compute and print predictions\n",
        "results = model.predict(tester)\n",
        "\n",
        "predict_labels = []\n",
        "result_class= np.argmax(results, axis=1)\n",
        "for i in result_class:\n",
        "  predict_labels.append(i)\n",
        "\n",
        "print(predict_labels)\n",
        "  "
      ],
      "execution_count": null,
      "outputs": []
    },
    {
      "cell_type": "code",
      "metadata": {
        "id": "GbGWAzdWyHt0"
      },
      "source": [
        "from sklearn.metrics import confusion_matrix\n",
        "from sklearn.metrics import plot_confusion_matrix\n",
        "import seaborn as sn\n",
        "import pandas as pd\n",
        "import matplotlib.pyplot as plt\n",
        "result_class= np.argmax(results, axis=1)\n",
        "labels = ['Approach', 'ChangeLane', 'Follow', 'FreeRide']\n",
        "\n",
        "matrix = confusion_matrix(true_labels, predict_labels, normalize='true')\n",
        "print (matrix)\n",
        "\n",
        "nc = valid2.classes_count\n",
        "df_cm = pd.DataFrame(matrix, range(nc), range(nc))\n",
        "# plt.figure(figsize=(10,7))\n",
        "sn.set(font_scale=1) # for label size\n",
        "sn.heatmap(df_cm, annot=True, annot_kws={\"size\": 16}) # font size\n",
        "\n",
        "plt.ylabel ('True')\n",
        "plt.xlabel ('Predicted')\n",
        "plt.show()"
      ],
      "execution_count": null,
      "outputs": []
    }
  ]
}